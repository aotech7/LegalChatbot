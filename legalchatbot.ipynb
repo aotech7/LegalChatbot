{
 "cells": [
  {
   "cell_type": "code",
   "execution_count": 3,
   "id": "716e2daf",
   "metadata": {},
   "outputs": [
    {
     "name": "stdout",
     "output_type": "stream",
     "text": [
      "To start conversation with chatbot enter 'Hello' \n",
      "To exit, enter 'Bye' \n",
      "You: Hello\n",
      "Chatbot:  What legal resource would you like assistance with today? Please select option 1- Privacy Law\n",
      ", 2- Immigration\n",
      " 3- Identity Theft \n",
      " 4. Consumer rights\n",
      "To start conversation with chatbot enter 'Hello' \n",
      "To exit, enter 'Bye' \n",
      "You: 4\n",
      "Chatbot: Consumer Rights: Please visit: https://econsumer.gov/\n",
      "To start conversation with chatbot enter 'Hello' \n",
      "To exit, enter 'Bye' \n",
      "You: bye\n",
      "Chatbot: Goodbye!\n"
     ]
    }
   ],
   "source": [
    "# import tkinter as tk\n",
    "# main_gui= tk.Tk()\n",
    "# messages = tk.Text(main_gui)\n",
    "# entry = tk.Entry(main_gui)\n",
    "# entry.pack()\n",
    "\n",
    "# def get():\n",
    "#     user_input = entry.get()\n",
    "#     response = chatbot_working(user_input)\n",
    "    \n",
    "#     print(response)\n",
    "# button = tk.Button(main_gui, text= \"Get Entry\", command = get)\n",
    "# button.pack()\n",
    "\n",
    "# main_gui.mainloop()\n",
    "#class can contain different data types, i.e. list, tuples, dictionaries,etc, anything \n",
    "#cannot have mulitple functions inside a function \n",
    "#like a method \n",
    "#class is like a template and object is like an instance of the class with customized values. \n",
    "#self is the object and should be included in the function \n",
    "\n",
    "# homework: option to speak with an agent\n",
    "# else: adding an option if not among choices \"i.e, I didn't understand that....\"\n",
    "# we only need one if, the rest can be elif\n",
    "\n",
    "\n",
    "class Chatbot:\n",
    "    \n",
    "    def chatbot_working(self,user_input):\n",
    "        user_input = user_input.lower()\n",
    "        if \"hello\" in user_input: \n",
    "            return \" What legal resource would you like assistance with today? Please select option 1- Privacy Law\\n, 2- Immigration\\n 3- Identity Theft \\n 4. Consumer rights\"\n",
    "        if user_input == \"1\":\n",
    "            return \"Privacy Law: Refer to this website: https://www.epic.org/\"\n",
    "        if user_input == \"2\": \n",
    "            return \" For Immigration: Please visit: https://www.uscis.gov/\"\n",
    "        if user_input == \"3\": \n",
    "            return \" For Identity Theft: Refer to this website:https://reportfraud.ftc.gov/ \"\n",
    "        if user_input == \"4\": \n",
    "            return \"Consumer Rights: Please visit: https://econsumer.gov/\"\n",
    "        \n",
    "# notice chatbot is the class\n",
    "\n",
    "object = Chatbot()\n",
    "\n",
    "while True: \n",
    "    print(\"To start conversation with chatbot enter 'Hello' \")\n",
    "    print(\"To exit, enter 'Bye' \")\n",
    "    \n",
    "    user_input = input(\"You: \")\n",
    "    response = object.chatbot_working(user_input)\n",
    "    if user_input.lower()==  'bye': \n",
    "        print(\"Chatbot: Goodbye!\")\n",
    "        break\n",
    "    print(f\"Chatbot: {response}\")\n",
    "    "
   ]
  },
  {
   "cell_type": "code",
   "execution_count": null,
   "id": "e1d4cbaa",
   "metadata": {},
   "outputs": [],
   "source": []
  },
  {
   "cell_type": "code",
   "execution_count": null,
   "id": "ed976f55",
   "metadata": {},
   "outputs": [],
   "source": []
  }
 ],
 "metadata": {
  "kernelspec": {
   "display_name": "Python 3 (ipykernel)",
   "language": "python",
   "name": "python3"
  },
  "language_info": {
   "codemirror_mode": {
    "name": "ipython",
    "version": 3
   },
   "file_extension": ".py",
   "mimetype": "text/x-python",
   "name": "python",
   "nbconvert_exporter": "python",
   "pygments_lexer": "ipython3",
   "version": "3.9.13"
  }
 },
 "nbformat": 4,
 "nbformat_minor": 5
}
